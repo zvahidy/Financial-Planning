{
 "cells": [
  {
   "cell_type": "markdown",
   "metadata": {},
   "source": [
    "# Financial Planning with APIs and Simulations\n",
    "\n",
    "In this Challenge, you’ll create two financial analysis tools by using a single Jupyter notebook:\n",
    "\n",
    "Part 1: A financial planner for emergencies. The members will be able to use this tool to visualize their current savings. The members can then determine if they have enough reserves for an emergency fund.\n",
    "\n",
    "Part 2: A financial planner for retirement. This tool will forecast the performance of their retirement portfolio in 30 years. To do this, the tool will make an Alpaca API call via the Alpaca SDK to get historical price data for use in Monte Carlo simulations.\n",
    "\n",
    "You’ll use the information from the Monte Carlo simulation to answer questions about the portfolio in your Jupyter notebook.\n",
    "\n"
   ]
  },
  {
   "cell_type": "code",
   "execution_count": 1,
   "metadata": {},
   "outputs": [],
   "source": [
    "# Import the required libraries and dependencies\n",
    "import os\n",
    "import requests\n",
    "import json\n",
    "import pandas as pd\n",
    "from dotenv import load_dotenv\n",
    "import alpaca_trade_api as tradeapi\n",
    "from MCForecastTools import MCSimulation\n",
    "\n",
    "%matplotlib inline"
   ]
  },
  {
   "cell_type": "code",
   "execution_count": 2,
   "metadata": {},
   "outputs": [
    {
     "data": {
      "text/plain": [
       "True"
      ]
     },
     "execution_count": 2,
     "metadata": {},
     "output_type": "execute_result"
    }
   ],
   "source": [
    "# Load the environment variables from the .env file\n",
    "#by calling the load_dotenv function\n",
    "load_dotenv()"
   ]
  },
  {
   "cell_type": "markdown",
   "metadata": {},
   "source": [
    "## Part 1: Create a Financial Planner for Emergencies"
   ]
  },
  {
   "cell_type": "markdown",
   "metadata": {},
   "source": [
    "### Evaluate the Cryptocurrency Wallet by Using the Requests Library\n",
    "\n",
    "In this section, you’ll determine the current value of a member’s cryptocurrency wallet. You’ll collect the current prices for the Bitcoin and Ethereum cryptocurrencies by using the Python Requests library. For the prototype, you’ll assume that the member holds the 1.2 Bitcoins (BTC) and 5.3 Ethereum coins (ETH). To do all this, complete the following steps:\n",
    "\n",
    "1. Create a variable named `monthly_income`, and set its value to `12000`.\n",
    "\n",
    "2. Use the Requests library to get the current price (in US dollars) of Bitcoin (BTC) and Ethereum (ETH) by using the API endpoints that the starter code supplies.\n",
    "\n",
    "3. Navigate the JSON response object to access the current price of each coin, and store each in a variable.\n",
    "\n",
    "    > **Hint** Note the specific identifier for each cryptocurrency in the API JSON response. The Bitcoin identifier is `1`, and the Ethereum identifier is `1027`.\n",
    "\n",
    "4. Calculate the value, in US dollars, of the current amount of each cryptocurrency and of the entire cryptocurrency wallet.\n",
    "\n"
   ]
  },
  {
   "cell_type": "code",
   "execution_count": 3,
   "metadata": {},
   "outputs": [],
   "source": [
    "# The current number of coins for each cryptocurrency asset held in the portfolio.\n",
    "btc_coins = 1.2\n",
    "eth_coins = 5.3"
   ]
  },
  {
   "cell_type": "markdown",
   "metadata": {},
   "source": [
    "#### Step 1: Create a variable named `monthly_income`, and set its value to `12000`."
   ]
  },
  {
   "cell_type": "code",
   "execution_count": 4,
   "metadata": {},
   "outputs": [],
   "source": [
    "# The monthly amount for the member's household income\n",
    "monthly_income = 12000\n"
   ]
  },
  {
   "cell_type": "markdown",
   "metadata": {},
   "source": [
    "#### Review the endpoint URLs for the API calls to Free Crypto API in order to get the current pricing information for both BTC and ETH."
   ]
  },
  {
   "cell_type": "code",
   "execution_count": 5,
   "metadata": {},
   "outputs": [],
   "source": [
    "# The Free Crypto API Call endpoint URLs for the held cryptocurrency assets\n",
    "btc_url = \"https://api.alternative.me/v2/ticker/Bitcoin/?convert=USD\"\n",
    "eth_url = \"https://api.alternative.me/v2/ticker/Ethereum/?convert=USD\""
   ]
  },
  {
   "cell_type": "markdown",
   "metadata": {},
   "source": [
    "#### Step 2. Use the Requests library to get the current price (in US dollars) of Bitcoin (BTC) and Ethereum (ETH) by using the API endpoints that the starter code supplied."
   ]
  },
  {
   "cell_type": "code",
   "execution_count": 6,
   "metadata": {},
   "outputs": [
    {
     "name": "stdout",
     "output_type": "stream",
     "text": [
      "{\n",
      "    \"data\": {\n",
      "        \"1\": {\n",
      "            \"circulating_supply\": 19099087,\n",
      "            \"id\": 1,\n",
      "            \"last_updated\": 1658387285,\n",
      "            \"max_supply\": 21000000,\n",
      "            \"name\": \"Bitcoin\",\n",
      "            \"quotes\": {\n",
      "                \"USD\": {\n",
      "                    \"market_cap\": 436167380063,\n",
      "                    \"percent_change_1h\": -0.596346681284118,\n",
      "                    \"percent_change_24h\": -3.99594777372656,\n",
      "                    \"percent_change_7d\": 12.8248039764447,\n",
      "                    \"percentage_change_1h\": -0.596346681284118,\n",
      "                    \"percentage_change_24h\": -3.99594777372656,\n",
      "                    \"percentage_change_7d\": 12.8248039764447,\n",
      "                    \"price\": 22819.0,\n",
      "                    \"volume_24h\": 47391270210\n",
      "                }\n",
      "            },\n",
      "            \"rank\": 1,\n",
      "            \"symbol\": \"BTC\",\n",
      "            \"total_supply\": 19099087,\n",
      "            \"website_slug\": \"bitcoin\"\n",
      "        }\n",
      "    },\n",
      "    \"metadata\": {\n",
      "        \"error\": null,\n",
      "        \"num_cryptocurrencies\": 3116,\n",
      "        \"timestamp\": 1658387285\n",
      "    }\n",
      "}\n"
     ]
    }
   ],
   "source": [
    "# Using the Python requests library, make an API call to access the current price of BTC\n",
    "btc_response = requests.get(btc_url).json()\n",
    "\n",
    "# Use the json.dumps function to review the response data from the API call\n",
    "# Use the indent and sort_keys parameters to make the response object readable\n",
    "print(json.dumps(btc_response, indent=4, sort_keys=True))"
   ]
  },
  {
   "cell_type": "code",
   "execution_count": 7,
   "metadata": {},
   "outputs": [
    {
     "name": "stdout",
     "output_type": "stream",
     "text": [
      "{\n",
      "    \"data\": {\n",
      "        \"1027\": {\n",
      "            \"circulating_supply\": 119761903,\n",
      "            \"id\": 1027,\n",
      "            \"last_updated\": 1658387314,\n",
      "            \"max_supply\": 119761601,\n",
      "            \"name\": \"Ethereum\",\n",
      "            \"quotes\": {\n",
      "                \"USD\": {\n",
      "                    \"market_cap\": 177046854074,\n",
      "                    \"percent_change_1h\": -1.04384645360384,\n",
      "                    \"percent_change_24h\": -5.90474646405847,\n",
      "                    \"percent_change_7d\": 32.7928252312138,\n",
      "                    \"percentage_change_1h\": -1.04384645360384,\n",
      "                    \"percentage_change_24h\": -5.90474646405847,\n",
      "                    \"percentage_change_7d\": 32.7928252312138,\n",
      "                    \"price\": 1477.88,\n",
      "                    \"volume_24h\": 21949285718\n",
      "                }\n",
      "            },\n",
      "            \"rank\": 2,\n",
      "            \"symbol\": \"ETH\",\n",
      "            \"total_supply\": 119761903,\n",
      "            \"website_slug\": \"ethereum\"\n",
      "        }\n",
      "    },\n",
      "    \"metadata\": {\n",
      "        \"error\": null,\n",
      "        \"num_cryptocurrencies\": 3116,\n",
      "        \"timestamp\": 1658387314\n",
      "    }\n",
      "}\n"
     ]
    }
   ],
   "source": [
    "# Using the Python requests library, make an API call to access the current price ETH\n",
    "eth_response = requests.get(eth_url).json()\n",
    "\n",
    "# Use the json.dumps function to review the response data from the API call\n",
    "# Use the indent and sort_keys parameters to make the response object readable\n",
    "print(json.dumps(eth_response, indent=4, sort_keys=True))\n"
   ]
  },
  {
   "cell_type": "markdown",
   "metadata": {},
   "source": [
    "#### Step 3: Navigate the JSON response object to access the current price of each coin, and store each in a variable."
   ]
  },
  {
   "cell_type": "code",
   "execution_count": 8,
   "metadata": {},
   "outputs": [
    {
     "name": "stdout",
     "output_type": "stream",
     "text": [
      "The current price of BTC is $22819.00\n"
     ]
    }
   ],
   "source": [
    "# Navigate the BTC response object to access the current price of BTC\n",
    "btc_price = btc_response['data']['1']['quotes']['USD']['price']\n",
    "\n",
    "# Print the current price of BTC\n",
    "print(f\"The current price of BTC is ${(btc_price):.2f}\")\n"
   ]
  },
  {
   "cell_type": "code",
   "execution_count": 9,
   "metadata": {},
   "outputs": [
    {
     "name": "stdout",
     "output_type": "stream",
     "text": [
      "The current price of ETH is $1477.88\n"
     ]
    }
   ],
   "source": [
    "# Navigate the BTC response object to access the current price of ETH\n",
    "eth_price = eth_response['data']['1027']['quotes']['USD']['price']\n",
    "\n",
    "# Print the current price of ETH\n",
    "print(f\"The current price of ETH is ${(eth_price):.2f}\")"
   ]
  },
  {
   "cell_type": "markdown",
   "metadata": {},
   "source": [
    "### Step 4: Calculate the value, in US dollars, of the current amount of each cryptocurrency and of the entire cryptocurrency wallet."
   ]
  },
  {
   "cell_type": "code",
   "execution_count": 10,
   "metadata": {},
   "outputs": [
    {
     "name": "stdout",
     "output_type": "stream",
     "text": [
      " The current value of BTC in the portfolio holdings is $27382.80\n"
     ]
    }
   ],
   "source": [
    "# Compute the current value of the BTC holding \n",
    "btc_value = btc_coins * btc_price\n",
    "\n",
    "# Print current value of your holding in BTC\n",
    "print(f\" The current value of BTC in the portfolio holdings is ${(btc_value):.2f}\")"
   ]
  },
  {
   "cell_type": "code",
   "execution_count": 11,
   "metadata": {},
   "outputs": [
    {
     "name": "stdout",
     "output_type": "stream",
     "text": [
      " The current value of ETH in the portfolio holdings is $7832.76\n"
     ]
    }
   ],
   "source": [
    "# Compute the current value of the ETH holding \n",
    "eth_value = eth_coins * eth_price\n",
    "\n",
    "# Print current value of your holding in ETH\n",
    "print(f\" The current value of ETH in the portfolio holdings is ${(eth_value):.2f}\")\n"
   ]
  },
  {
   "cell_type": "code",
   "execution_count": 12,
   "metadata": {},
   "outputs": [
    {
     "name": "stdout",
     "output_type": "stream",
     "text": [
      " The total value of the cryptocurrency wallet is $35215.56\n"
     ]
    }
   ],
   "source": [
    "# Compute the total value of the cryptocurrency wallet\n",
    "# Add the value of the BTC holding to the value of the ETH holding\n",
    "total_crypto_wallet = btc_value + eth_value\n",
    "\n",
    "# Print current cryptocurrency wallet balance\n",
    "print(f\" The total value of the cryptocurrency wallet is ${(total_crypto_wallet):.2f}\")\n"
   ]
  },
  {
   "cell_type": "markdown",
   "metadata": {},
   "source": [
    "### Evaluate the Stock and Bond Holdings by Using the Alpaca SDK\n",
    "\n",
    "In this section, you’ll determine the current value of a member’s stock and bond holdings. You’ll make an API call to Alpaca via the Alpaca SDK to get the current closing prices of the SPDR S&P 500 ETF Trust (ticker: SPY) and of the iShares Core US Aggregate Bond ETF (ticker: AGG). For the prototype, assume that the member holds 110 shares of SPY, which represents the stock portion of their portfolio, and 200 shares of AGG, which represents the bond portion. To do all this, complete the following steps:\n",
    "\n",
    "1. In the `Starter_Code` folder, create an environment file (`.env`) to store the values of your Alpaca API key and Alpaca secret key.\n",
    "\n",
    "2. Set the variables for the Alpaca API and secret keys. Using the Alpaca SDK, create the Alpaca `tradeapi.REST` object. In this object, include the parameters for the Alpaca API key, the secret key, and the version number.\n",
    "\n",
    "3. Set the following parameters for the Alpaca API call:\n",
    "\n",
    "    - `tickers`: Use the tickers for the member’s stock and bond holdings.\n",
    "\n",
    "    - `timeframe`: Use a time frame of one day.\n",
    "\n",
    "    - `start_date` and `end_date`: Use the same date for these parameters, and format them with the date of the previous weekday (or `2020-08-07`). This is because you want the one closing price for the most-recent trading day.\n",
    "\n",
    "4. Get the current closing prices for `SPY` and `AGG` by using the Alpaca `get_bars` function. Format the response as a Pandas DataFrame by including the `df` property at the end of the `get_bars` function.\n",
    "\n",
    "5. Navigating the Alpaca response DataFrame, select the `SPY` and `AGG` closing prices, and store them as variables.\n",
    "\n",
    "6. Calculate the value, in US dollars, of the current amount of shares in each of the stock and bond portions of the portfolio, and print the results.\n"
   ]
  },
  {
   "cell_type": "markdown",
   "metadata": {},
   "source": [
    "#### Review the total number of shares held in both (SPY) and (AGG)."
   ]
  },
  {
   "cell_type": "code",
   "execution_count": 13,
   "metadata": {},
   "outputs": [],
   "source": [
    "# Current amount of shares held in both the stock (SPY) and bond (AGG) portion of the portfolio.\n",
    "spy_shares = 110\n",
    "agg_shares = 200\n"
   ]
  },
  {
   "cell_type": "markdown",
   "metadata": {},
   "source": [
    "#### Step 1: In the `Starter_Code` folder, create an environment file (`.env`) to store the values of your Alpaca API key and Alpaca secret key."
   ]
  },
  {
   "cell_type": "markdown",
   "metadata": {},
   "source": [
    "#### Step 2: Set the variables for the Alpaca API and secret keys. Using the Alpaca SDK, create the Alpaca `tradeapi.REST` object. In this object, include the parameters for the Alpaca API key, the secret key, and the version number."
   ]
  },
  {
   "cell_type": "code",
   "execution_count": 14,
   "metadata": {},
   "outputs": [
    {
     "data": {
      "text/plain": [
       "str"
      ]
     },
     "metadata": {},
     "output_type": "display_data"
    },
    {
     "data": {
      "text/plain": [
       "str"
      ]
     },
     "metadata": {},
     "output_type": "display_data"
    }
   ],
   "source": [
    "# Set the variables for the Alpaca API and secret keys\n",
    "alpaca_api_key = os.getenv(\"ALPACA_API_KEY\")\n",
    "alpaca_secret_key = os.getenv(\"ALPACA_SECRET_KEY\")\n",
    "\n",
    "# Check the values were imported correctly by evaluating the type of each\n",
    "display(type(alpaca_api_key))\n",
    "display(type(alpaca_secret_key))\n",
    "\n",
    "# Create the Alpaca tradeapi.REST object\n",
    "alpaca = tradeapi.REST(\n",
    "    alpaca_api_key,\n",
    "    alpaca_secret_key,\n",
    "    api_version=\"v2\")"
   ]
  },
  {
   "cell_type": "markdown",
   "metadata": {},
   "source": [
    "#### Step 3: Set the following parameters for the Alpaca API call:\n",
    "\n",
    "- `tickers`: Use the tickers for the member’s stock and bond holdings.\n",
    "\n",
    "- `timeframe`: Use a time frame of one day.\n",
    "\n",
    "- `start_date` and `end_date`: Use the same date for these parameters, and format them with the date of the previous weekday (or `2020-08-07`). This is because you want the one closing price for the most-recent trading day.\n"
   ]
  },
  {
   "cell_type": "code",
   "execution_count": 18,
   "metadata": {},
   "outputs": [],
   "source": [
    "# Set the tickers for both the bond and stock portion of the portfolio\n",
    "tickers = [\"SPY\", \"AGG\"]\n",
    "\n",
    "# Set timeframe to 1Day\n",
    "timeframe = \"1Day\"\n",
    "\n",
    "# Format current date as ISO format\n",
    "# Set both the start and end date at the date of your prior weekday \n",
    "# This will give you the closing price of the previous trading day\n",
    "# Alternatively you can use a start and end date of 2020-08-07\n",
    "\n",
    "start_date = pd.Timestamp(\"2022-07-18\", tz=\"America/New_York\").isoformat()\n",
    "end_date = pd.Timestamp(\"2022-07-18\", tz=\"America/New_York\").isoformat()\n"
   ]
  },
  {
   "cell_type": "markdown",
   "metadata": {},
   "source": [
    "#### Step 4: Get the current closing prices for `SPY` and `AGG` by using the Alpaca `get_bars` function. Format the response as a Pandas DataFrame by including the `df` property at the end of the `get_bars` function."
   ]
  },
  {
   "cell_type": "code",
   "execution_count": 19,
   "metadata": {},
   "outputs": [
    {
     "data": {
      "text/html": [
       "<div>\n",
       "<style scoped>\n",
       "    .dataframe tbody tr th:only-of-type {\n",
       "        vertical-align: middle;\n",
       "    }\n",
       "\n",
       "    .dataframe tbody tr th {\n",
       "        vertical-align: top;\n",
       "    }\n",
       "\n",
       "    .dataframe thead tr th {\n",
       "        text-align: left;\n",
       "    }\n",
       "\n",
       "    .dataframe thead tr:last-of-type th {\n",
       "        text-align: right;\n",
       "    }\n",
       "</style>\n",
       "<table border=\"1\" class=\"dataframe\">\n",
       "  <thead>\n",
       "    <tr>\n",
       "      <th></th>\n",
       "      <th colspan=\"7\" halign=\"left\">SPY</th>\n",
       "      <th colspan=\"7\" halign=\"left\">AGG</th>\n",
       "    </tr>\n",
       "    <tr>\n",
       "      <th></th>\n",
       "      <th>open</th>\n",
       "      <th>high</th>\n",
       "      <th>low</th>\n",
       "      <th>close</th>\n",
       "      <th>volume</th>\n",
       "      <th>trade_count</th>\n",
       "      <th>vwap</th>\n",
       "      <th>open</th>\n",
       "      <th>high</th>\n",
       "      <th>low</th>\n",
       "      <th>close</th>\n",
       "      <th>volume</th>\n",
       "      <th>trade_count</th>\n",
       "      <th>vwap</th>\n",
       "    </tr>\n",
       "    <tr>\n",
       "      <th>timestamp</th>\n",
       "      <th></th>\n",
       "      <th></th>\n",
       "      <th></th>\n",
       "      <th></th>\n",
       "      <th></th>\n",
       "      <th></th>\n",
       "      <th></th>\n",
       "      <th></th>\n",
       "      <th></th>\n",
       "      <th></th>\n",
       "      <th></th>\n",
       "      <th></th>\n",
       "      <th></th>\n",
       "      <th></th>\n",
       "    </tr>\n",
       "  </thead>\n",
       "  <tbody>\n",
       "    <tr>\n",
       "      <th>2022-07-18 04:00:00+00:00</th>\n",
       "      <td>388.27</td>\n",
       "      <td>389.09</td>\n",
       "      <td>380.66</td>\n",
       "      <td>381.95</td>\n",
       "      <td>62903915</td>\n",
       "      <td>489558</td>\n",
       "      <td>385.087984</td>\n",
       "      <td>102.0</td>\n",
       "      <td>102.03</td>\n",
       "      <td>101.72</td>\n",
       "      <td>101.92</td>\n",
       "      <td>4949050</td>\n",
       "      <td>18802</td>\n",
       "      <td>101.89283</td>\n",
       "    </tr>\n",
       "  </tbody>\n",
       "</table>\n",
       "</div>"
      ],
      "text/plain": [
       "                              SPY                                    \\\n",
       "                             open    high     low   close    volume   \n",
       "timestamp                                                             \n",
       "2022-07-18 04:00:00+00:00  388.27  389.09  380.66  381.95  62903915   \n",
       "\n",
       "                                                     AGG                  \\\n",
       "                          trade_count        vwap   open    high     low   \n",
       "timestamp                                                                  \n",
       "2022-07-18 04:00:00+00:00      489558  385.087984  102.0  102.03  101.72   \n",
       "\n",
       "                                                                   \n",
       "                            close   volume trade_count       vwap  \n",
       "timestamp                                                          \n",
       "2022-07-18 04:00:00+00:00  101.92  4949050       18802  101.89283  "
      ]
     },
     "execution_count": 19,
     "metadata": {},
     "output_type": "execute_result"
    }
   ],
   "source": [
    "# Use the Alpaca get_bars function to get current closing prices the portfolio\n",
    "# Be sure to set the `df` property after the function to format the response object as a DataFrame\n",
    "closing_prices_df = alpaca.get_bars(\n",
    "    tickers,\n",
    "    timeframe,\n",
    "    start=start_date,\n",
    "    end=end_date\n",
    ").df\n",
    "\n",
    "# Reorganize the DataFrame\n",
    "# Separate ticker data\n",
    "SPY = closing_prices_df[closing_prices_df['symbol']=='SPY'].drop('symbol', axis=1)\n",
    "AGG = closing_prices_df[closing_prices_df['symbol']=='AGG'].drop('symbol', axis=1)\n",
    "\n",
    "# Concatenate the ticker DataFrames\n",
    "closing_prices_df = pd.concat([SPY, AGG,], axis=1, keys=[\"SPY\", \"AGG\",])\n",
    "\n",
    "# Review the first 5 rows of the Alpaca DataFrame\n",
    "closing_prices_df.head()\n"
   ]
  },
  {
   "cell_type": "markdown",
   "metadata": {},
   "source": [
    "#### Step 5: Navigating the Alpaca response DataFrame, select the `SPY` and `AGG` closing prices, and store them as variables."
   ]
  },
  {
   "cell_type": "code",
   "execution_count": 20,
   "metadata": {},
   "outputs": [
    {
     "name": "stdout",
     "output_type": "stream",
     "text": [
      "The closing price of AGG is $101.92\n"
     ]
    }
   ],
   "source": [
    "# Access the closing price for AGG from the Alpaca DataFrame\n",
    "# Converting the value to a floating point number\n",
    "agg_close_price = float(closing_prices_df[\"AGG\"][\"close\"])\n",
    "\n",
    "# Print the AGG closing price\n",
    "print(f\"The closing price of AGG is ${(agg_close_price):.2f}\")"
   ]
  },
  {
   "cell_type": "code",
   "execution_count": 23,
   "metadata": {},
   "outputs": [
    {
     "name": "stdout",
     "output_type": "stream",
     "text": [
      "The closing price of SPY is $381.95\n"
     ]
    }
   ],
   "source": [
    "# Access the closing price for SPY from the Alpaca DataFrame\n",
    "# Converting the value to a floating point number\n",
    "spy_close_price = float(closing_prices_df[\"SPY\"][\"close\"])\n",
    "\n",
    "# Print the SPY closing price\n",
    "print(f\"The closing price of SPY is ${(spy_close_price):.2f}\")"
   ]
  },
  {
   "cell_type": "markdown",
   "metadata": {},
   "source": [
    "#### Step 6: Calculate the value, in US dollars, of the current amount of shares in each of the stock and bond portions of the portfolio, and print the results."
   ]
  },
  {
   "cell_type": "code",
   "execution_count": 26,
   "metadata": {},
   "outputs": [
    {
     "name": "stdout",
     "output_type": "stream",
     "text": [
      " The current bond portfolio value for AGG is $20384.00\n"
     ]
    }
   ],
   "source": [
    "# Calculate the current value of the bond portion of the portfolio\n",
    "agg_value = round(agg_close_price * agg_shares)\n",
    "\n",
    "# Print the current value of the bond portfolio\n",
    "print(f\" The current bond portfolio value is ${(agg_value):.2f}\")\n"
   ]
  },
  {
   "cell_type": "code",
   "execution_count": 27,
   "metadata": {},
   "outputs": [
    {
     "name": "stdout",
     "output_type": "stream",
     "text": [
      " The current stock portfolio value is $42014.00\n"
     ]
    }
   ],
   "source": [
    "# Calculate the current value of the stock portion of the portfolio\n",
    "spy_value = round(spy_close_price * spy_shares)\n",
    "\n",
    "# Print the current value of the stock portfolio\n",
    "print(f\" The current stock portfolio value is ${(spy_value):.2f}\")\n"
   ]
  },
  {
   "cell_type": "code",
   "execution_count": 28,
   "metadata": {},
   "outputs": [
    {
     "name": "stdout",
     "output_type": "stream",
     "text": [
      " The total value of the stock and bond portion of the portfolio is $62398.00\n"
     ]
    }
   ],
   "source": [
    "# Calculate the total value of the stock and bond portion of the portfolio\n",
    "total_stocks_bonds = agg_value + spy_value\n",
    "\n",
    "# Print the current balance of the stock and bond portion of the portfolio\n",
    "print(f\" The total value of the stock and bond portion of the portfolio is ${(total_stocks_bonds):.2f}\")\n"
   ]
  },
  {
   "cell_type": "code",
   "execution_count": 29,
   "metadata": {},
   "outputs": [
    {
     "name": "stdout",
     "output_type": "stream",
     "text": [
      " The total value of the member's entire savings portfolio is $97613.56\n"
     ]
    }
   ],
   "source": [
    "# Calculate the total value of the member's entire savings portfolio\n",
    "# Add the value of the cryptocurrency wallet to the value of the total stocks and bonds\n",
    "total_portfolio = total_stocks_bonds + total_crypto_wallet\n",
    "\n",
    "# Print current cryptocurrency wallet balance\n",
    "print(f\" The total value of the member's entire savings portfolio is ${(total_portfolio):.2f}\")\n"
   ]
  },
  {
   "cell_type": "markdown",
   "metadata": {},
   "source": [
    "### Evaluate the Emergency Fund\n",
    "\n",
    "In this section, you’ll use the valuations for the cryptocurrency wallet and for the stock and bond portions of the portfolio to determine if the credit union member has enough savings to build an emergency fund into their financial plan. To do this, complete the following steps:\n",
    "\n",
    "1. Create a Python list named `savings_data` that has two elements. The first element contains the total value of the cryptocurrency wallet. The second element contains the total value of the stock and bond portions of the portfolio.\n",
    "\n",
    "2. Use the `savings_data` list to create a Pandas DataFrame named `savings_df`, and then display this DataFrame. The function to create the DataFrame should take the following three parameters:\n",
    "\n",
    "    - `savings_data`: Use the list that you just created.\n",
    "\n",
    "    - `columns`: Set this parameter equal to a Python list with a single value called `amount`.\n",
    "\n",
    "    - `index`: Set this parameter equal to a Python list with the values of `crypto` and `stock/bond`.\n",
    "\n",
    "3. Use the `savings_df` DataFrame to plot a pie chart that visualizes the composition of the member’s portfolio. The y-axis of the pie chart uses `amount`. Be sure to add a title.\n",
    "\n",
    "4. Using Python, determine if the current portfolio has enough to create an emergency fund as part of the member’s financial plan. Ideally, an emergency fund should equal to three times the member’s monthly income. To do this, implement the following steps:\n",
    "\n",
    "    1. Create a variable named `emergency_fund_value`, and set it equal to three times the value of the member’s `monthly_income` of $12000. (You set this earlier in Part 1).\n",
    "\n",
    "    2. Create a series of three if statements to determine if the member’s total portfolio is large enough to fund the emergency portfolio:\n",
    "\n",
    "        1. If the total portfolio value is greater than the emergency fund value, display a message congratulating the member for having enough money in this fund.\n",
    "\n",
    "        2. Else if the total portfolio value is equal to the emergency fund value, display a message congratulating the member on reaching this important financial goal.\n",
    "\n",
    "        3. Else the total portfolio is less than the emergency fund value, so display a message showing how many dollars away the member is from reaching the goal. (Subtract the total portfolio value from the emergency fund value.)\n"
   ]
  },
  {
   "cell_type": "markdown",
   "metadata": {},
   "source": [
    "#### Step 1: Create a Python list named `savings_data` that has two elements. The first element contains the total value of the cryptocurrency wallet. The second element contains the total value of the stock and bond portions of the portfolio."
   ]
  },
  {
   "cell_type": "code",
   "execution_count": 31,
   "metadata": {},
   "outputs": [
    {
     "data": {
      "text/plain": [
       "[35215.564, 62398]"
      ]
     },
     "execution_count": 31,
     "metadata": {},
     "output_type": "execute_result"
    }
   ],
   "source": [
    "# Consolidate financial assets data into a Python list\n",
    "savings_data = [total_crypto_wallet, total_stocks_bonds]\n",
    "\n",
    "# Review the Python list savings_data\n",
    "savings_data\n",
    "    "
   ]
  },
  {
   "cell_type": "markdown",
   "metadata": {},
   "source": [
    "#### Step 2: Use the `savings_data` list to create a Pandas DataFrame named `savings_df`, and then display this DataFrame. The function to create the DataFrame should take the following three parameters:\n",
    "\n",
    "- `savings_data`: Use the list that you just created.\n",
    "\n",
    "- `columns`: Set this parameter equal to a Python list with a single value called `amount`.\n",
    "\n",
    "- `index`: Set this parameter equal to a Python list with the values of `crypto` and `stock/bond`.\n"
   ]
  },
  {
   "cell_type": "code",
   "execution_count": 40,
   "metadata": {},
   "outputs": [
    {
     "data": {
      "text/html": [
       "<div>\n",
       "<style scoped>\n",
       "    .dataframe tbody tr th:only-of-type {\n",
       "        vertical-align: middle;\n",
       "    }\n",
       "\n",
       "    .dataframe tbody tr th {\n",
       "        vertical-align: top;\n",
       "    }\n",
       "\n",
       "    .dataframe thead th {\n",
       "        text-align: right;\n",
       "    }\n",
       "</style>\n",
       "<table border=\"1\" class=\"dataframe\">\n",
       "  <thead>\n",
       "    <tr style=\"text-align: right;\">\n",
       "      <th></th>\n",
       "      <th>Amount</th>\n",
       "    </tr>\n",
       "  </thead>\n",
       "  <tbody>\n",
       "    <tr>\n",
       "      <th>Crypto</th>\n",
       "      <td>35215.564</td>\n",
       "    </tr>\n",
       "    <tr>\n",
       "      <th>Stocks and Bonds</th>\n",
       "      <td>62398.000</td>\n",
       "    </tr>\n",
       "  </tbody>\n",
       "</table>\n",
       "</div>"
      ],
      "text/plain": [
       "                     Amount\n",
       "Crypto            35215.564\n",
       "Stocks and Bonds  62398.000"
      ]
     },
     "metadata": {},
     "output_type": "display_data"
    }
   ],
   "source": [
    "# Create a Pandas DataFrame called savings_df \n",
    "savings_df = pd.DataFrame(list(savings_data))\n",
    "\n",
    "# Display the savings_df DataFrame\n",
    "savings_df.columns=[\"Amount\"]\n",
    "savings_df.index=[\"Crypto\", \"Stocks and Bonds\"]\n",
    "\n",
    "display(savings_df)"
   ]
  },
  {
   "cell_type": "markdown",
   "metadata": {},
   "source": [
    "#### Step 3: Use the `savings_df` DataFrame to plot a pie chart that visualizes the composition of the member’s portfolio. The y-axis of the pie chart uses `amount`. Be sure to add a title."
   ]
  },
  {
   "cell_type": "code",
   "execution_count": 42,
   "metadata": {},
   "outputs": [
    {
     "data": {
      "text/plain": [
       "<AxesSubplot:title={'center':\"Composition of Member's Entire Savings Portfolio\"}, ylabel='Amount'>"
      ]
     },
     "execution_count": 42,
     "metadata": {},
     "output_type": "execute_result"
    },
    {
     "data": {
      "image/png": "[encoded data removed]",
      "text/plain": [
       "<Figure size 432x288 with 1 Axes>"
      ]
     },
     "metadata": {},
     "output_type": "display_data"
    }
   ],
   "source": [
    "# Plot the total value of the member's portfolio (crypto and stock/bond) in a pie chart\n",
    "savings_df.plot.pie(y='Amount', title=\"Composition of Member's Entire Savings Portfolio\")\n"
   ]
  },
  {
   "cell_type": "markdown",
   "metadata": {},
   "source": [
    "#### Step 4: Using Python, determine if the current portfolio has enough to create an emergency fund as part of the member’s financial plan. Ideally, an emergency fund should equal to three times the member’s monthly income. To do this, implement the following steps:\n",
    "\n",
    "Step 1. Create a variable named `emergency_fund_value`, and set it equal to three times the value of the member’s `monthly_income` of 12000. (You set this earlier in Part 1).\n",
    "\n",
    "Step 2. Create a series of three if statements to determine if the member’s total portfolio is large enough to fund the emergency portfolio:\n",
    "\n",
    "* If the total portfolio value is greater than the emergency fund value, display a message congratulating the member for having enough money in this fund.\n",
    "\n",
    "* Else if the total portfolio value is equal to the emergency fund value, display a message congratulating the member on reaching this important financial goal.\n",
    "\n",
    "* Else the total portfolio is less than the emergency fund value, so display a message showing how many dollars away the member is from reaching the goal. (Subtract the total portfolio value from the emergency fund value.)\n"
   ]
  },
  {
   "cell_type": "markdown",
   "metadata": {},
   "source": [
    "##### Step 4-1: Create a variable named `emergency_fund_value`, and set it equal to three times the value of the member’s `monthly_income` of 12000. (You set this earlier in Part 1)."
   ]
  },
  {
   "cell_type": "code",
   "execution_count": 49,
   "metadata": {},
   "outputs": [],
   "source": [
    "# Create a variable named emergency_fund_value\n",
    "emergency_fund_value = 3 * monthly_income\n"
   ]
  },
  {
   "cell_type": "markdown",
   "metadata": {},
   "source": [
    "##### Step 4-2: Create a series of three if statements to determine if the member’s total portfolio is large enough to fund the emergency portfolio:\n",
    "\n",
    "* If the total portfolio value is greater than the emergency fund value, display a message congratulating the member for having enough money in this fund.\n",
    "\n",
    "* Else if the total portfolio value is equal to the emergency fund value, display a message congratulating the member on reaching this important financial goal.\n",
    "\n",
    "* Else the total portfolio is less than the emergency fund value, so display a message showing how many dollars away the member is from reaching the goal. (Subtract the total portfolio value from the emergency fund value.)"
   ]
  },
  {
   "cell_type": "code",
   "execution_count": 51,
   "metadata": {},
   "outputs": [
    {
     "data": {
      "text/plain": [
       "'Congratulation! You have enough money in this fund!'"
      ]
     },
     "metadata": {},
     "output_type": "display_data"
    }
   ],
   "source": [
    "# Evaluate the possibility of creating an emergency fund with 3 conditions:\n",
    "if total_portfolio > emergency_fund_value:\n",
    "    display(f\"Congratulation! You have enough money in this fund!\")\n",
    "elif total_portfolio == emergency_fund_value:\n",
    "    display(f\"Congratulation! You have reached an important financial goal!\")\n",
    "else:\n",
    "    display(f\"You are only ${(emergency_fund_value - total_portfolio):.2f}from reaching the goal!\")\n"
   ]
  },
  {
   "cell_type": "markdown",
   "metadata": {},
   "source": [
    "## Part 2: Create a Financial Planner for Retirement"
   ]
  },
  {
   "cell_type": "markdown",
   "metadata": {},
   "source": [
    "### Create the Monte Carlo Simulation\n",
    "\n",
    "In this section, you’ll use the MCForecastTools library to create a Monte Carlo simulation for the member’s savings portfolio. To do this, complete the following steps:\n",
    "\n",
    "1. Make an API call via the Alpaca SDK to get 3 years of historical closing prices for a traditional 60/40 portfolio split: 60% stocks (SPY) and 40% bonds (AGG).\n",
    "\n",
    "2. Run a Monte Carlo simulation of 500 samples and 30 years for the 60/40 portfolio, and then plot the results.The following image shows the overlay line plot resulting from a simulation with these characteristics. However, because a random number generator is used to run each live Monte Carlo simulation, your image will differ slightly from this exact image:\n",
    "\n",
    "![A screenshot depicts the resulting plot.](Images/5-4-monte-carlo-line-plot.png)\n",
    "\n",
    "3. Plot the probability distribution of the Monte Carlo simulation. Plot the probability distribution of the Monte Carlo simulation. The following image shows the histogram plot resulting from a simulation with these characteristics. However, because a random number generator is used to run each live Monte Carlo simulation, your image will differ slightly from this exact image:\n",
    "\n",
    "![A screenshot depicts the histogram plot.](Images/5-4-monte-carlo-histogram.png)\n",
    "\n",
    "4. Generate the summary statistics for the Monte Carlo simulation.\n",
    "\n"
   ]
  },
  {
   "cell_type": "markdown",
   "metadata": {},
   "source": [
    "#### Step 1: Make an API call via the Alpaca SDK to get 3 years of historical closing prices for a traditional 60/40 portfolio split: 60% stocks (SPY) and 40% bonds (AGG)."
   ]
  },
  {
   "cell_type": "code",
   "execution_count": 56,
   "metadata": {},
   "outputs": [],
   "source": [
    "# Set start and end dates of 3 years back from your current date\n",
    "# Alternatively, you can use an end date of 2020-08-07 and work 3 years back from that date \n",
    "\n",
    "start_date = pd.Timestamp(\"2019-07-18\", tz=\"America/New_York\").isoformat()\n",
    "end_date = pd.Timestamp(\"2022-07-18\", tz=\"America/New_York\").isoformat()"
   ]
  },
  {
   "cell_type": "code",
   "execution_count": 59,
   "metadata": {},
   "outputs": [
    {
     "data": {
      "text/html": [
       "<div>\n",
       "<style scoped>\n",
       "    .dataframe tbody tr th:only-of-type {\n",
       "        vertical-align: middle;\n",
       "    }\n",
       "\n",
       "    .dataframe tbody tr th {\n",
       "        vertical-align: top;\n",
       "    }\n",
       "\n",
       "    .dataframe thead tr th {\n",
       "        text-align: left;\n",
       "    }\n",
       "\n",
       "    .dataframe thead tr:last-of-type th {\n",
       "        text-align: right;\n",
       "    }\n",
       "</style>\n",
       "<table border=\"1\" class=\"dataframe\">\n",
       "  <thead>\n",
       "    <tr>\n",
       "      <th></th>\n",
       "      <th colspan=\"7\" halign=\"left\">SPY</th>\n",
       "      <th colspan=\"7\" halign=\"left\">AGG</th>\n",
       "    </tr>\n",
       "    <tr>\n",
       "      <th></th>\n",
       "      <th>open</th>\n",
       "      <th>high</th>\n",
       "      <th>low</th>\n",
       "      <th>close</th>\n",
       "      <th>volume</th>\n",
       "      <th>trade_count</th>\n",
       "      <th>vwap</th>\n",
       "      <th>open</th>\n",
       "      <th>high</th>\n",
       "      <th>low</th>\n",
       "      <th>close</th>\n",
       "      <th>volume</th>\n",
       "      <th>trade_count</th>\n",
       "      <th>vwap</th>\n",
       "    </tr>\n",
       "    <tr>\n",
       "      <th>timestamp</th>\n",
       "      <th></th>\n",
       "      <th></th>\n",
       "      <th></th>\n",
       "      <th></th>\n",
       "      <th></th>\n",
       "      <th></th>\n",
       "      <th></th>\n",
       "      <th></th>\n",
       "      <th></th>\n",
       "      <th></th>\n",
       "      <th></th>\n",
       "      <th></th>\n",
       "      <th></th>\n",
       "      <th></th>\n",
       "    </tr>\n",
       "  </thead>\n",
       "  <tbody>\n",
       "    <tr>\n",
       "      <th>2019-07-18 04:00:00+00:00</th>\n",
       "      <td>297.18</td>\n",
       "      <td>299.25</td>\n",
       "      <td>296.70</td>\n",
       "      <td>298.83</td>\n",
       "      <td>53567032</td>\n",
       "      <td>236661</td>\n",
       "      <td>298.067797</td>\n",
       "      <td>111.10</td>\n",
       "      <td>111.330</td>\n",
       "      <td>111.060</td>\n",
       "      <td>111.30</td>\n",
       "      <td>5982223</td>\n",
       "      <td>17331</td>\n",
       "      <td>111.220550</td>\n",
       "    </tr>\n",
       "    <tr>\n",
       "      <th>2019-07-19 04:00:00+00:00</th>\n",
       "      <td>300.01</td>\n",
       "      <td>300.07</td>\n",
       "      <td>296.96</td>\n",
       "      <td>297.17</td>\n",
       "      <td>76794138</td>\n",
       "      <td>260715</td>\n",
       "      <td>298.617649</td>\n",
       "      <td>111.22</td>\n",
       "      <td>111.286</td>\n",
       "      <td>111.140</td>\n",
       "      <td>111.17</td>\n",
       "      <td>3150774</td>\n",
       "      <td>9948</td>\n",
       "      <td>111.225017</td>\n",
       "    </tr>\n",
       "    <tr>\n",
       "      <th>2019-07-22 04:00:00+00:00</th>\n",
       "      <td>297.61</td>\n",
       "      <td>298.50</td>\n",
       "      <td>297.04</td>\n",
       "      <td>297.90</td>\n",
       "      <td>45137404</td>\n",
       "      <td>186383</td>\n",
       "      <td>297.748117</td>\n",
       "      <td>111.41</td>\n",
       "      <td>111.410</td>\n",
       "      <td>111.300</td>\n",
       "      <td>111.31</td>\n",
       "      <td>2855073</td>\n",
       "      <td>7937</td>\n",
       "      <td>111.344721</td>\n",
       "    </tr>\n",
       "    <tr>\n",
       "      <th>2019-07-23 04:00:00+00:00</th>\n",
       "      <td>299.15</td>\n",
       "      <td>300.03</td>\n",
       "      <td>298.22</td>\n",
       "      <td>300.03</td>\n",
       "      <td>44935473</td>\n",
       "      <td>208847</td>\n",
       "      <td>299.177015</td>\n",
       "      <td>111.27</td>\n",
       "      <td>111.320</td>\n",
       "      <td>111.160</td>\n",
       "      <td>111.20</td>\n",
       "      <td>2659305</td>\n",
       "      <td>10894</td>\n",
       "      <td>111.219201</td>\n",
       "    </tr>\n",
       "    <tr>\n",
       "      <th>2019-07-24 04:00:00+00:00</th>\n",
       "      <td>299.16</td>\n",
       "      <td>301.44</td>\n",
       "      <td>299.09</td>\n",
       "      <td>301.44</td>\n",
       "      <td>47738870</td>\n",
       "      <td>204882</td>\n",
       "      <td>300.570907</td>\n",
       "      <td>111.33</td>\n",
       "      <td>111.410</td>\n",
       "      <td>111.295</td>\n",
       "      <td>111.36</td>\n",
       "      <td>2783461</td>\n",
       "      <td>12750</td>\n",
       "      <td>111.337833</td>\n",
       "    </tr>\n",
       "  </tbody>\n",
       "</table>\n",
       "</div>"
      ],
      "text/plain": [
       "                              SPY                                    \\\n",
       "                             open    high     low   close    volume   \n",
       "timestamp                                                             \n",
       "2019-07-18 04:00:00+00:00  297.18  299.25  296.70  298.83  53567032   \n",
       "2019-07-19 04:00:00+00:00  300.01  300.07  296.96  297.17  76794138   \n",
       "2019-07-22 04:00:00+00:00  297.61  298.50  297.04  297.90  45137404   \n",
       "2019-07-23 04:00:00+00:00  299.15  300.03  298.22  300.03  44935473   \n",
       "2019-07-24 04:00:00+00:00  299.16  301.44  299.09  301.44  47738870   \n",
       "\n",
       "                                                      AGG                    \\\n",
       "                          trade_count        vwap    open     high      low   \n",
       "timestamp                                                                     \n",
       "2019-07-18 04:00:00+00:00      236661  298.067797  111.10  111.330  111.060   \n",
       "2019-07-19 04:00:00+00:00      260715  298.617649  111.22  111.286  111.140   \n",
       "2019-07-22 04:00:00+00:00      186383  297.748117  111.41  111.410  111.300   \n",
       "2019-07-23 04:00:00+00:00      208847  299.177015  111.27  111.320  111.160   \n",
       "2019-07-24 04:00:00+00:00      204882  300.570907  111.33  111.410  111.295   \n",
       "\n",
       "                                                                    \n",
       "                            close   volume trade_count        vwap  \n",
       "timestamp                                                           \n",
       "2019-07-18 04:00:00+00:00  111.30  5982223       17331  111.220550  \n",
       "2019-07-19 04:00:00+00:00  111.17  3150774        9948  111.225017  \n",
       "2019-07-22 04:00:00+00:00  111.31  2855073        7937  111.344721  \n",
       "2019-07-23 04:00:00+00:00  111.20  2659305       10894  111.219201  \n",
       "2019-07-24 04:00:00+00:00  111.36  2783461       12750  111.337833  "
      ]
     },
     "metadata": {},
     "output_type": "display_data"
    },
    {
     "data": {
      "text/html": [
       "<div>\n",
       "<style scoped>\n",
       "    .dataframe tbody tr th:only-of-type {\n",
       "        vertical-align: middle;\n",
       "    }\n",
       "\n",
       "    .dataframe tbody tr th {\n",
       "        vertical-align: top;\n",
       "    }\n",
       "\n",
       "    .dataframe thead tr th {\n",
       "        text-align: left;\n",
       "    }\n",
       "\n",
       "    .dataframe thead tr:last-of-type th {\n",
       "        text-align: right;\n",
       "    }\n",
       "</style>\n",
       "<table border=\"1\" class=\"dataframe\">\n",
       "  <thead>\n",
       "    <tr>\n",
       "      <th></th>\n",
       "      <th colspan=\"7\" halign=\"left\">SPY</th>\n",
       "      <th colspan=\"7\" halign=\"left\">AGG</th>\n",
       "    </tr>\n",
       "    <tr>\n",
       "      <th></th>\n",
       "      <th>open</th>\n",
       "      <th>high</th>\n",
       "      <th>low</th>\n",
       "      <th>close</th>\n",
       "      <th>volume</th>\n",
       "      <th>trade_count</th>\n",
       "      <th>vwap</th>\n",
       "      <th>open</th>\n",
       "      <th>high</th>\n",
       "      <th>low</th>\n",
       "      <th>close</th>\n",
       "      <th>volume</th>\n",
       "      <th>trade_count</th>\n",
       "      <th>vwap</th>\n",
       "    </tr>\n",
       "    <tr>\n",
       "      <th>timestamp</th>\n",
       "      <th></th>\n",
       "      <th></th>\n",
       "      <th></th>\n",
       "      <th></th>\n",
       "      <th></th>\n",
       "      <th></th>\n",
       "      <th></th>\n",
       "      <th></th>\n",
       "      <th></th>\n",
       "      <th></th>\n",
       "      <th></th>\n",
       "      <th></th>\n",
       "      <th></th>\n",
       "      <th></th>\n",
       "    </tr>\n",
       "  </thead>\n",
       "  <tbody>\n",
       "    <tr>\n",
       "      <th>2022-07-12 04:00:00+00:00</th>\n",
       "      <td>383.66</td>\n",
       "      <td>386.1600</td>\n",
       "      <td>378.990</td>\n",
       "      <td>380.83</td>\n",
       "      <td>62027220</td>\n",
       "      <td>512244</td>\n",
       "      <td>382.617620</td>\n",
       "      <td>102.02</td>\n",
       "      <td>102.19</td>\n",
       "      <td>101.82</td>\n",
       "      <td>101.84</td>\n",
       "      <td>6664991</td>\n",
       "      <td>21057</td>\n",
       "      <td>102.039440</td>\n",
       "    </tr>\n",
       "    <tr>\n",
       "      <th>2022-07-13 04:00:00+00:00</th>\n",
       "      <td>375.09</td>\n",
       "      <td>381.9200</td>\n",
       "      <td>374.658</td>\n",
       "      <td>378.83</td>\n",
       "      <td>83575452</td>\n",
       "      <td>671953</td>\n",
       "      <td>378.819688</td>\n",
       "      <td>101.23</td>\n",
       "      <td>102.24</td>\n",
       "      <td>101.19</td>\n",
       "      <td>102.21</td>\n",
       "      <td>6514247</td>\n",
       "      <td>26716</td>\n",
       "      <td>101.977478</td>\n",
       "    </tr>\n",
       "    <tr>\n",
       "      <th>2022-07-14 04:00:00+00:00</th>\n",
       "      <td>373.99</td>\n",
       "      <td>379.0498</td>\n",
       "      <td>371.040</td>\n",
       "      <td>377.91</td>\n",
       "      <td>89349688</td>\n",
       "      <td>637416</td>\n",
       "      <td>375.589384</td>\n",
       "      <td>101.51</td>\n",
       "      <td>101.98</td>\n",
       "      <td>101.33</td>\n",
       "      <td>101.85</td>\n",
       "      <td>6224496</td>\n",
       "      <td>24722</td>\n",
       "      <td>101.747120</td>\n",
       "    </tr>\n",
       "    <tr>\n",
       "      <th>2022-07-15 04:00:00+00:00</th>\n",
       "      <td>382.62</td>\n",
       "      <td>385.2500</td>\n",
       "      <td>380.540</td>\n",
       "      <td>385.13</td>\n",
       "      <td>79318992</td>\n",
       "      <td>488124</td>\n",
       "      <td>383.334989</td>\n",
       "      <td>101.94</td>\n",
       "      <td>102.35</td>\n",
       "      <td>101.90</td>\n",
       "      <td>102.25</td>\n",
       "      <td>8440151</td>\n",
       "      <td>27300</td>\n",
       "      <td>102.214854</td>\n",
       "    </tr>\n",
       "    <tr>\n",
       "      <th>2022-07-18 04:00:00+00:00</th>\n",
       "      <td>388.27</td>\n",
       "      <td>389.0900</td>\n",
       "      <td>380.660</td>\n",
       "      <td>381.95</td>\n",
       "      <td>62903915</td>\n",
       "      <td>489558</td>\n",
       "      <td>385.087984</td>\n",
       "      <td>102.00</td>\n",
       "      <td>102.03</td>\n",
       "      <td>101.72</td>\n",
       "      <td>101.92</td>\n",
       "      <td>4949050</td>\n",
       "      <td>18802</td>\n",
       "      <td>101.892830</td>\n",
       "    </tr>\n",
       "  </tbody>\n",
       "</table>\n",
       "</div>"
      ],
      "text/plain": [
       "                              SPY                                       \\\n",
       "                             open      high      low   close    volume   \n",
       "timestamp                                                                \n",
       "2022-07-12 04:00:00+00:00  383.66  386.1600  378.990  380.83  62027220   \n",
       "2022-07-13 04:00:00+00:00  375.09  381.9200  374.658  378.83  83575452   \n",
       "2022-07-14 04:00:00+00:00  373.99  379.0498  371.040  377.91  89349688   \n",
       "2022-07-15 04:00:00+00:00  382.62  385.2500  380.540  385.13  79318992   \n",
       "2022-07-18 04:00:00+00:00  388.27  389.0900  380.660  381.95  62903915   \n",
       "\n",
       "                                                      AGG                  \\\n",
       "                          trade_count        vwap    open    high     low   \n",
       "timestamp                                                                   \n",
       "2022-07-12 04:00:00+00:00      512244  382.617620  102.02  102.19  101.82   \n",
       "2022-07-13 04:00:00+00:00      671953  378.819688  101.23  102.24  101.19   \n",
       "2022-07-14 04:00:00+00:00      637416  375.589384  101.51  101.98  101.33   \n",
       "2022-07-15 04:00:00+00:00      488124  383.334989  101.94  102.35  101.90   \n",
       "2022-07-18 04:00:00+00:00      489558  385.087984  102.00  102.03  101.72   \n",
       "\n",
       "                                                                    \n",
       "                            close   volume trade_count        vwap  \n",
       "timestamp                                                           \n",
       "2022-07-12 04:00:00+00:00  101.84  6664991       21057  102.039440  \n",
       "2022-07-13 04:00:00+00:00  102.21  6514247       26716  101.977478  \n",
       "2022-07-14 04:00:00+00:00  101.85  6224496       24722  101.747120  \n",
       "2022-07-15 04:00:00+00:00  102.25  8440151       27300  102.214854  \n",
       "2022-07-18 04:00:00+00:00  101.92  4949050       18802  101.892830  "
      ]
     },
     "metadata": {},
     "output_type": "display_data"
    }
   ],
   "source": [
    "# Use the Alpaca get_bars function to make the API call to get the 3 years worth of pricing data\n",
    "# The tickers and timeframe parameters should have been set in Part 1 of this activity \n",
    "# The start and end dates should be updated with the information set above\n",
    "# Remember to add the df property to the end of the call so the response is returned as a DataFrame\n",
    "three_yr_closing_prices_df = alpaca.get_bars(\n",
    "    tickers,\n",
    "    timeframe,\n",
    "    start=start_date,\n",
    "    end=end_date\n",
    ").df\n",
    "\n",
    "# Reorganize the DataFrame\n",
    "# Separate ticker data\n",
    "SPY = three_yr_closing_prices_df[three_yr_closing_prices_df['symbol']=='SPY'].drop('symbol', axis=1)\n",
    "AGG = three_yr_closing_prices_df[three_yr_closing_prices_df['symbol']=='AGG'].drop('symbol', axis=1)\n",
    "\n",
    "# Concatenate the ticker DataFrames\n",
    "three_yr_closing_prices_df = pd.concat([SPY, AGG,], axis=1, keys=[\"SPY\", \"AGG\",])\n",
    "\n",
    "# Display both the first and last five rows of the DataFrame\n",
    "display(three_yr_closing_prices_df.head())\n",
    "display(three_yr_closing_prices_df.tail())\n"
   ]
  },
  {
   "cell_type": "markdown",
   "metadata": {},
   "source": [
    "#### Step 2: Run a Monte Carlo simulation of 500 samples and 30 years for the 60/40 portfolio, and then plot the results."
   ]
  },
  {
   "cell_type": "code",
   "execution_count": 61,
   "metadata": {},
   "outputs": [
    {
     "data": {
      "text/html": [
       "<div>\n",
       "<style scoped>\n",
       "    .dataframe tbody tr th:only-of-type {\n",
       "        vertical-align: middle;\n",
       "    }\n",
       "\n",
       "    .dataframe tbody tr th {\n",
       "        vertical-align: top;\n",
       "    }\n",
       "\n",
       "    .dataframe thead tr th {\n",
       "        text-align: left;\n",
       "    }\n",
       "\n",
       "    .dataframe thead tr:last-of-type th {\n",
       "        text-align: right;\n",
       "    }\n",
       "</style>\n",
       "<table border=\"1\" class=\"dataframe\">\n",
       "  <thead>\n",
       "    <tr>\n",
       "      <th></th>\n",
       "      <th colspan=\"8\" halign=\"left\">SPY</th>\n",
       "      <th colspan=\"8\" halign=\"left\">AGG</th>\n",
       "    </tr>\n",
       "    <tr>\n",
       "      <th></th>\n",
       "      <th>open</th>\n",
       "      <th>high</th>\n",
       "      <th>low</th>\n",
       "      <th>close</th>\n",
       "      <th>volume</th>\n",
       "      <th>trade_count</th>\n",
       "      <th>vwap</th>\n",
       "      <th>daily_return</th>\n",
       "      <th>open</th>\n",
       "      <th>high</th>\n",
       "      <th>low</th>\n",
       "      <th>close</th>\n",
       "      <th>volume</th>\n",
       "      <th>trade_count</th>\n",
       "      <th>vwap</th>\n",
       "      <th>daily_return</th>\n",
       "    </tr>\n",
       "    <tr>\n",
       "      <th>timestamp</th>\n",
       "      <th></th>\n",
       "      <th></th>\n",
       "      <th></th>\n",
       "      <th></th>\n",
       "      <th></th>\n",
       "      <th></th>\n",
       "      <th></th>\n",
       "      <th></th>\n",
       "      <th></th>\n",
       "      <th></th>\n",
       "      <th></th>\n",
       "      <th></th>\n",
       "      <th></th>\n",
       "      <th></th>\n",
       "      <th></th>\n",
       "      <th></th>\n",
       "    </tr>\n",
       "  </thead>\n",
       "  <tbody>\n",
       "    <tr>\n",
       "      <th>2019-07-18 04:00:00+00:00</th>\n",
       "      <td>297.18</td>\n",
       "      <td>299.25</td>\n",
       "      <td>296.70</td>\n",
       "      <td>298.83</td>\n",
       "      <td>53567032</td>\n",
       "      <td>236661</td>\n",
       "      <td>298.067797</td>\n",
       "      <td>NaN</td>\n",
       "      <td>111.10</td>\n",
       "      <td>111.330</td>\n",
       "      <td>111.060</td>\n",
       "      <td>111.30</td>\n",
       "      <td>5982223</td>\n",
       "      <td>17331</td>\n",
       "      <td>111.220550</td>\n",
       "      <td>NaN</td>\n",
       "    </tr>\n",
       "    <tr>\n",
       "      <th>2019-07-19 04:00:00+00:00</th>\n",
       "      <td>300.01</td>\n",
       "      <td>300.07</td>\n",
       "      <td>296.96</td>\n",
       "      <td>297.17</td>\n",
       "      <td>76794138</td>\n",
       "      <td>260715</td>\n",
       "      <td>298.617649</td>\n",
       "      <td>-0.005555</td>\n",
       "      <td>111.22</td>\n",
       "      <td>111.286</td>\n",
       "      <td>111.140</td>\n",
       "      <td>111.17</td>\n",
       "      <td>3150774</td>\n",
       "      <td>9948</td>\n",
       "      <td>111.225017</td>\n",
       "      <td>-0.001168</td>\n",
       "    </tr>\n",
       "    <tr>\n",
       "      <th>2019-07-22 04:00:00+00:00</th>\n",
       "      <td>297.61</td>\n",
       "      <td>298.50</td>\n",
       "      <td>297.04</td>\n",
       "      <td>297.90</td>\n",
       "      <td>45137404</td>\n",
       "      <td>186383</td>\n",
       "      <td>297.748117</td>\n",
       "      <td>0.002457</td>\n",
       "      <td>111.41</td>\n",
       "      <td>111.410</td>\n",
       "      <td>111.300</td>\n",
       "      <td>111.31</td>\n",
       "      <td>2855073</td>\n",
       "      <td>7937</td>\n",
       "      <td>111.344721</td>\n",
       "      <td>0.001259</td>\n",
       "    </tr>\n",
       "    <tr>\n",
       "      <th>2019-07-23 04:00:00+00:00</th>\n",
       "      <td>299.15</td>\n",
       "      <td>300.03</td>\n",
       "      <td>298.22</td>\n",
       "      <td>300.03</td>\n",
       "      <td>44935473</td>\n",
       "      <td>208847</td>\n",
       "      <td>299.177015</td>\n",
       "      <td>0.007150</td>\n",
       "      <td>111.27</td>\n",
       "      <td>111.320</td>\n",
       "      <td>111.160</td>\n",
       "      <td>111.20</td>\n",
       "      <td>2659305</td>\n",
       "      <td>10894</td>\n",
       "      <td>111.219201</td>\n",
       "      <td>-0.000988</td>\n",
       "    </tr>\n",
       "    <tr>\n",
       "      <th>2019-07-24 04:00:00+00:00</th>\n",
       "      <td>299.16</td>\n",
       "      <td>301.44</td>\n",
       "      <td>299.09</td>\n",
       "      <td>301.44</td>\n",
       "      <td>47738870</td>\n",
       "      <td>204882</td>\n",
       "      <td>300.570907</td>\n",
       "      <td>0.004700</td>\n",
       "      <td>111.33</td>\n",
       "      <td>111.410</td>\n",
       "      <td>111.295</td>\n",
       "      <td>111.36</td>\n",
       "      <td>2783461</td>\n",
       "      <td>12750</td>\n",
       "      <td>111.337833</td>\n",
       "      <td>0.001439</td>\n",
       "    </tr>\n",
       "  </tbody>\n",
       "</table>\n",
       "</div>"
      ],
      "text/plain": [
       "                              SPY                                    \\\n",
       "                             open    high     low   close    volume   \n",
       "timestamp                                                             \n",
       "2019-07-18 04:00:00+00:00  297.18  299.25  296.70  298.83  53567032   \n",
       "2019-07-19 04:00:00+00:00  300.01  300.07  296.96  297.17  76794138   \n",
       "2019-07-22 04:00:00+00:00  297.61  298.50  297.04  297.90  45137404   \n",
       "2019-07-23 04:00:00+00:00  299.15  300.03  298.22  300.03  44935473   \n",
       "2019-07-24 04:00:00+00:00  299.16  301.44  299.09  301.44  47738870   \n",
       "\n",
       "                                                                   AGG  \\\n",
       "                          trade_count        vwap daily_return    open   \n",
       "timestamp                                                                \n",
       "2019-07-18 04:00:00+00:00      236661  298.067797          NaN  111.10   \n",
       "2019-07-19 04:00:00+00:00      260715  298.617649    -0.005555  111.22   \n",
       "2019-07-22 04:00:00+00:00      186383  297.748117     0.002457  111.41   \n",
       "2019-07-23 04:00:00+00:00      208847  299.177015     0.007150  111.27   \n",
       "2019-07-24 04:00:00+00:00      204882  300.570907     0.004700  111.33   \n",
       "\n",
       "                                                                          \\\n",
       "                              high      low   close   volume trade_count   \n",
       "timestamp                                                                  \n",
       "2019-07-18 04:00:00+00:00  111.330  111.060  111.30  5982223       17331   \n",
       "2019-07-19 04:00:00+00:00  111.286  111.140  111.17  3150774        9948   \n",
       "2019-07-22 04:00:00+00:00  111.410  111.300  111.31  2855073        7937   \n",
       "2019-07-23 04:00:00+00:00  111.320  111.160  111.20  2659305       10894   \n",
       "2019-07-24 04:00:00+00:00  111.410  111.295  111.36  2783461       12750   \n",
       "\n",
       "                                                    \n",
       "                                 vwap daily_return  \n",
       "timestamp                                           \n",
       "2019-07-18 04:00:00+00:00  111.220550          NaN  \n",
       "2019-07-19 04:00:00+00:00  111.225017    -0.001168  \n",
       "2019-07-22 04:00:00+00:00  111.344721     0.001259  \n",
       "2019-07-23 04:00:00+00:00  111.219201    -0.000988  \n",
       "2019-07-24 04:00:00+00:00  111.337833     0.001439  "
      ]
     },
     "execution_count": 61,
     "metadata": {},
     "output_type": "execute_result"
    }
   ],
   "source": [
    "# Configure the Monte Carlo simulation to forecast 30 years cumulative returns\n",
    "# The weights should be split 40% to AGG and 60% to SPY.\n",
    "# Run 500 samples.\n",
    "MC_thirty_yr = MCSimulation(\n",
    "    portfolio_data = three_yr_closing_prices_df,\n",
    "    weights = [.40,.60],\n",
    "    num_simulation = 500,\n",
    "    num_trading_days = 252*30\n",
    ")\n",
    "# Review the simulation input data\n",
    "MC_thirty_yr.portfolio_data.head()\n"
   ]
  },
  {
   "cell_type": "code",
   "execution_count": 62,
   "metadata": {},
   "outputs": [
    {
     "name": "stdout",
     "output_type": "stream",
     "text": [
      "Running Monte Carlo simulation number 0.\n",
      "Running Monte Carlo simulation number 10.\n",
      "Running Monte Carlo simulation number 20.\n",
      "Running Monte Carlo simulation number 30.\n",
      "Running Monte Carlo simulation number 40.\n",
      "Running Monte Carlo simulation number 50.\n",
      "Running Monte Carlo simulation number 60.\n",
      "Running Monte Carlo simulation number 70.\n",
      "Running Monte Carlo simulation number 80.\n",
      "Running Monte Carlo simulation number 90.\n",
      "Running Monte Carlo simulation number 100.\n"
     ]
    },
    {
     "name": "stderr",
     "output_type": "stream",
     "text": [
      "C:\\Users\\zvahi\\src\\fintech\\Fintech-module-05\\Challenge_05\\Repo\\Financial-Planning\\MCForecastTools.py:117: PerformanceWarning: DataFrame is highly fragmented.  This is usually the result of calling `frame.insert` many times, which has poor performance.  Consider joining all columns at once using pd.concat(axis=1) instead.  To get a de-fragmented frame, use `newframe = frame.copy()`\n",
      "  portfolio_cumulative_returns[n] = (1 + sim_df.fillna(0)).cumprod()\n"
     ]
    },
    {
     "name": "stdout",
     "output_type": "stream",
     "text": [
      "Running Monte Carlo simulation number 110.\n",
      "Running Monte Carlo simulation number 120.\n",
      "Running Monte Carlo simulation number 130.\n",
      "Running Monte Carlo simulation number 140.\n",
      "Running Monte Carlo simulation number 150.\n",
      "Running Monte Carlo simulation number 160.\n",
      "Running Monte Carlo simulation number 170.\n",
      "Running Monte Carlo simulation number 180.\n",
      "Running Monte Carlo simulation number 190.\n",
      "Running Monte Carlo simulation number 200.\n",
      "Running Monte Carlo simulation number 210.\n",
      "Running Monte Carlo simulation number 220.\n",
      "Running Monte Carlo simulation number 230.\n",
      "Running Monte Carlo simulation number 240.\n",
      "Running Monte Carlo simulation number 250.\n",
      "Running Monte Carlo simulation number 260.\n",
      "Running Monte Carlo simulation number 270.\n",
      "Running Monte Carlo simulation number 280.\n",
      "Running Monte Carlo simulation number 290.\n",
      "Running Monte Carlo simulation number 300.\n",
      "Running Monte Carlo simulation number 310.\n",
      "Running Monte Carlo simulation number 320.\n",
      "Running Monte Carlo simulation number 330.\n",
      "Running Monte Carlo simulation number 340.\n",
      "Running Monte Carlo simulation number 350.\n",
      "Running Monte Carlo simulation number 360.\n",
      "Running Monte Carlo simulation number 370.\n",
      "Running Monte Carlo simulation number 380.\n",
      "Running Monte Carlo simulation number 390.\n",
      "Running Monte Carlo simulation number 400.\n",
      "Running Monte Carlo simulation number 410.\n",
      "Running Monte Carlo simulation number 420.\n",
      "Running Monte Carlo simulation number 430.\n",
      "Running Monte Carlo simulation number 440.\n",
      "Running Monte Carlo simulation number 450.\n",
      "Running Monte Carlo simulation number 460.\n",
      "Running Monte Carlo simulation number 470.\n",
      "Running Monte Carlo simulation number 480.\n",
      "Running Monte Carlo simulation number 490.\n"
     ]
    },
    {
     "data": {
      "text/html": [
       "<div>\n",
       "<style scoped>\n",
       "    .dataframe tbody tr th:only-of-type {\n",
       "        vertical-align: middle;\n",
       "    }\n",
       "\n",
       "    .dataframe tbody tr th {\n",
       "        vertical-align: top;\n",
       "    }\n",
       "\n",
       "    .dataframe thead th {\n",
       "        text-align: right;\n",
       "    }\n",
       "</style>\n",
       "<table border=\"1\" class=\"dataframe\">\n",
       "  <thead>\n",
       "    <tr style=\"text-align: right;\">\n",
       "      <th></th>\n",
       "      <th>0</th>\n",
       "      <th>1</th>\n",
       "      <th>2</th>\n",
       "      <th>3</th>\n",
       "      <th>4</th>\n",
       "      <th>5</th>\n",
       "      <th>6</th>\n",
       "      <th>7</th>\n",
       "      <th>8</th>\n",
       "      <th>9</th>\n",
       "      <th>...</th>\n",
       "      <th>490</th>\n",
       "      <th>491</th>\n",
       "      <th>492</th>\n",
       "      <th>493</th>\n",
       "      <th>494</th>\n",
       "      <th>495</th>\n",
       "      <th>496</th>\n",
       "      <th>497</th>\n",
       "      <th>498</th>\n",
       "      <th>499</th>\n",
       "    </tr>\n",
       "  </thead>\n",
       "  <tbody>\n",
       "    <tr>\n",
       "      <th>0</th>\n",
       "      <td>1.000000</td>\n",
       "      <td>1.000000</td>\n",
       "      <td>1.000000</td>\n",
       "      <td>1.000000</td>\n",
       "      <td>1.000000</td>\n",
       "      <td>1.000000</td>\n",
       "      <td>1.000000</td>\n",
       "      <td>1.000000</td>\n",
       "      <td>1.000000</td>\n",
       "      <td>1.000000</td>\n",
       "      <td>...</td>\n",
       "      <td>1.000000</td>\n",
       "      <td>1.000000</td>\n",
       "      <td>1.000000</td>\n",
       "      <td>1.000000</td>\n",
       "      <td>1.000000</td>\n",
       "      <td>1.000000</td>\n",
       "      <td>1.000000</td>\n",
       "      <td>1.000000</td>\n",
       "      <td>1.000000</td>\n",
       "      <td>1.000000</td>\n",
       "    </tr>\n",
       "    <tr>\n",
       "      <th>1</th>\n",
       "      <td>0.986554</td>\n",
       "      <td>0.997800</td>\n",
       "      <td>1.006003</td>\n",
       "      <td>0.989297</td>\n",
       "      <td>0.996960</td>\n",
       "      <td>0.987241</td>\n",
       "      <td>1.002772</td>\n",
       "      <td>1.001302</td>\n",
       "      <td>1.006444</td>\n",
       "      <td>0.991245</td>\n",
       "      <td>...</td>\n",
       "      <td>0.994577</td>\n",
       "      <td>0.993958</td>\n",
       "      <td>1.006040</td>\n",
       "      <td>1.001711</td>\n",
       "      <td>1.006964</td>\n",
       "      <td>1.000458</td>\n",
       "      <td>1.010464</td>\n",
       "      <td>0.988317</td>\n",
       "      <td>0.996920</td>\n",
       "      <td>1.005568</td>\n",
       "    </tr>\n",
       "    <tr>\n",
       "      <th>2</th>\n",
       "      <td>0.976839</td>\n",
       "      <td>1.004069</td>\n",
       "      <td>1.000573</td>\n",
       "      <td>0.983394</td>\n",
       "      <td>0.996495</td>\n",
       "      <td>0.992486</td>\n",
       "      <td>1.001234</td>\n",
       "      <td>0.995559</td>\n",
       "      <td>1.007211</td>\n",
       "      <td>0.985046</td>\n",
       "      <td>...</td>\n",
       "      <td>0.995185</td>\n",
       "      <td>1.000593</td>\n",
       "      <td>1.009152</td>\n",
       "      <td>1.006236</td>\n",
       "      <td>0.992298</td>\n",
       "      <td>1.006539</td>\n",
       "      <td>1.015428</td>\n",
       "      <td>0.977838</td>\n",
       "      <td>0.998448</td>\n",
       "      <td>1.009063</td>\n",
       "    </tr>\n",
       "    <tr>\n",
       "      <th>3</th>\n",
       "      <td>0.964730</td>\n",
       "      <td>1.001548</td>\n",
       "      <td>0.998806</td>\n",
       "      <td>0.972470</td>\n",
       "      <td>0.998557</td>\n",
       "      <td>0.995433</td>\n",
       "      <td>1.005339</td>\n",
       "      <td>0.982951</td>\n",
       "      <td>0.997328</td>\n",
       "      <td>0.977391</td>\n",
       "      <td>...</td>\n",
       "      <td>1.007246</td>\n",
       "      <td>1.001404</td>\n",
       "      <td>1.015123</td>\n",
       "      <td>0.998627</td>\n",
       "      <td>0.987218</td>\n",
       "      <td>1.003919</td>\n",
       "      <td>1.015614</td>\n",
       "      <td>0.985789</td>\n",
       "      <td>1.001449</td>\n",
       "      <td>1.004057</td>\n",
       "    </tr>\n",
       "    <tr>\n",
       "      <th>4</th>\n",
       "      <td>0.963562</td>\n",
       "      <td>1.011754</td>\n",
       "      <td>0.995560</td>\n",
       "      <td>0.973257</td>\n",
       "      <td>0.994901</td>\n",
       "      <td>0.993920</td>\n",
       "      <td>0.998514</td>\n",
       "      <td>0.985275</td>\n",
       "      <td>0.994988</td>\n",
       "      <td>0.988453</td>\n",
       "      <td>...</td>\n",
       "      <td>0.998653</td>\n",
       "      <td>1.013043</td>\n",
       "      <td>1.010985</td>\n",
       "      <td>1.006278</td>\n",
       "      <td>0.987634</td>\n",
       "      <td>1.011660</td>\n",
       "      <td>1.017319</td>\n",
       "      <td>0.967864</td>\n",
       "      <td>0.999133</td>\n",
       "      <td>1.010051</td>\n",
       "    </tr>\n",
       "    <tr>\n",
       "      <th>...</th>\n",
       "      <td>...</td>\n",
       "      <td>...</td>\n",
       "      <td>...</td>\n",
       "      <td>...</td>\n",
       "      <td>...</td>\n",
       "      <td>...</td>\n",
       "      <td>...</td>\n",
       "      <td>...</td>\n",
       "      <td>...</td>\n",
       "      <td>...</td>\n",
       "      <td>...</td>\n",
       "      <td>...</td>\n",
       "      <td>...</td>\n",
       "      <td>...</td>\n",
       "      <td>...</td>\n",
       "      <td>...</td>\n",
       "      <td>...</td>\n",
       "      <td>...</td>\n",
       "      <td>...</td>\n",
       "      <td>...</td>\n",
       "      <td>...</td>\n",
       "    </tr>\n",
       "    <tr>\n",
       "      <th>7556</th>\n",
       "      <td>1.461857</td>\n",
       "      <td>0.916280</td>\n",
       "      <td>1.603588</td>\n",
       "      <td>1.566926</td>\n",
       "      <td>1.659876</td>\n",
       "      <td>2.414404</td>\n",
       "      <td>1.240865</td>\n",
       "      <td>1.861936</td>\n",
       "      <td>1.923145</td>\n",
       "      <td>1.236164</td>\n",
       "      <td>...</td>\n",
       "      <td>2.569162</td>\n",
       "      <td>2.346072</td>\n",
       "      <td>2.190286</td>\n",
       "      <td>1.498624</td>\n",
       "      <td>3.413223</td>\n",
       "      <td>1.888345</td>\n",
       "      <td>2.088468</td>\n",
       "      <td>2.648125</td>\n",
       "      <td>3.200056</td>\n",
       "      <td>1.674335</td>\n",
       "    </tr>\n",
       "    <tr>\n",
       "      <th>7557</th>\n",
       "      <td>1.464832</td>\n",
       "      <td>0.912792</td>\n",
       "      <td>1.585518</td>\n",
       "      <td>1.562755</td>\n",
       "      <td>1.673618</td>\n",
       "      <td>2.441494</td>\n",
       "      <td>1.233725</td>\n",
       "      <td>1.874499</td>\n",
       "      <td>1.928077</td>\n",
       "      <td>1.244971</td>\n",
       "      <td>...</td>\n",
       "      <td>2.585872</td>\n",
       "      <td>2.353675</td>\n",
       "      <td>2.187219</td>\n",
       "      <td>1.496197</td>\n",
       "      <td>3.404597</td>\n",
       "      <td>1.892702</td>\n",
       "      <td>2.083795</td>\n",
       "      <td>2.690466</td>\n",
       "      <td>3.236409</td>\n",
       "      <td>1.682493</td>\n",
       "    </tr>\n",
       "    <tr>\n",
       "      <th>7558</th>\n",
       "      <td>1.451338</td>\n",
       "      <td>0.916745</td>\n",
       "      <td>1.592355</td>\n",
       "      <td>1.565283</td>\n",
       "      <td>1.685749</td>\n",
       "      <td>2.464051</td>\n",
       "      <td>1.242385</td>\n",
       "      <td>1.863377</td>\n",
       "      <td>1.921918</td>\n",
       "      <td>1.252339</td>\n",
       "      <td>...</td>\n",
       "      <td>2.615641</td>\n",
       "      <td>2.360470</td>\n",
       "      <td>2.176362</td>\n",
       "      <td>1.501252</td>\n",
       "      <td>3.407181</td>\n",
       "      <td>1.887490</td>\n",
       "      <td>2.084048</td>\n",
       "      <td>2.688430</td>\n",
       "      <td>3.278362</td>\n",
       "      <td>1.683125</td>\n",
       "    </tr>\n",
       "    <tr>\n",
       "      <th>7559</th>\n",
       "      <td>1.462921</td>\n",
       "      <td>0.911354</td>\n",
       "      <td>1.580996</td>\n",
       "      <td>1.571539</td>\n",
       "      <td>1.680077</td>\n",
       "      <td>2.441733</td>\n",
       "      <td>1.252404</td>\n",
       "      <td>1.883458</td>\n",
       "      <td>1.906786</td>\n",
       "      <td>1.245110</td>\n",
       "      <td>...</td>\n",
       "      <td>2.632799</td>\n",
       "      <td>2.386722</td>\n",
       "      <td>2.168109</td>\n",
       "      <td>1.504803</td>\n",
       "      <td>3.418711</td>\n",
       "      <td>1.869786</td>\n",
       "      <td>2.054602</td>\n",
       "      <td>2.673892</td>\n",
       "      <td>3.262495</td>\n",
       "      <td>1.682795</td>\n",
       "    </tr>\n",
       "    <tr>\n",
       "      <th>7560</th>\n",
       "      <td>1.455247</td>\n",
       "      <td>0.915682</td>\n",
       "      <td>1.596878</td>\n",
       "      <td>1.556595</td>\n",
       "      <td>1.671638</td>\n",
       "      <td>2.437613</td>\n",
       "      <td>1.268223</td>\n",
       "      <td>1.852356</td>\n",
       "      <td>1.900151</td>\n",
       "      <td>1.245539</td>\n",
       "      <td>...</td>\n",
       "      <td>2.620518</td>\n",
       "      <td>2.392603</td>\n",
       "      <td>2.150067</td>\n",
       "      <td>1.513871</td>\n",
       "      <td>3.443033</td>\n",
       "      <td>1.889224</td>\n",
       "      <td>2.034145</td>\n",
       "      <td>2.675769</td>\n",
       "      <td>3.284413</td>\n",
       "      <td>1.668836</td>\n",
       "    </tr>\n",
       "  </tbody>\n",
       "</table>\n",
       "<p>7561 rows × 500 columns</p>\n",
       "</div>"
      ],
      "text/plain": [
       "           0         1         2         3         4         5         6    \\\n",
       "0     1.000000  1.000000  1.000000  1.000000  1.000000  1.000000  1.000000   \n",
       "1     0.986554  0.997800  1.006003  0.989297  0.996960  0.987241  1.002772   \n",
       "2     0.976839  1.004069  1.000573  0.983394  0.996495  0.992486  1.001234   \n",
       "3     0.964730  1.001548  0.998806  0.972470  0.998557  0.995433  1.005339   \n",
       "4     0.963562  1.011754  0.995560  0.973257  0.994901  0.993920  0.998514   \n",
       "...        ...       ...       ...       ...       ...       ...       ...   \n",
       "7556  1.461857  0.916280  1.603588  1.566926  1.659876  2.414404  1.240865   \n",
       "7557  1.464832  0.912792  1.585518  1.562755  1.673618  2.441494  1.233725   \n",
       "7558  1.451338  0.916745  1.592355  1.565283  1.685749  2.464051  1.242385   \n",
       "7559  1.462921  0.911354  1.580996  1.571539  1.680077  2.441733  1.252404   \n",
       "7560  1.455247  0.915682  1.596878  1.556595  1.671638  2.437613  1.268223   \n",
       "\n",
       "           7         8         9    ...       490       491       492  \\\n",
       "0     1.000000  1.000000  1.000000  ...  1.000000  1.000000  1.000000   \n",
       "1     1.001302  1.006444  0.991245  ...  0.994577  0.993958  1.006040   \n",
       "2     0.995559  1.007211  0.985046  ...  0.995185  1.000593  1.009152   \n",
       "3     0.982951  0.997328  0.977391  ...  1.007246  1.001404  1.015123   \n",
       "4     0.985275  0.994988  0.988453  ...  0.998653  1.013043  1.010985   \n",
       "...        ...       ...       ...  ...       ...       ...       ...   \n",
       "7556  1.861936  1.923145  1.236164  ...  2.569162  2.346072  2.190286   \n",
       "7557  1.874499  1.928077  1.244971  ...  2.585872  2.353675  2.187219   \n",
       "7558  1.863377  1.921918  1.252339  ...  2.615641  2.360470  2.176362   \n",
       "7559  1.883458  1.906786  1.245110  ...  2.632799  2.386722  2.168109   \n",
       "7560  1.852356  1.900151  1.245539  ...  2.620518  2.392603  2.150067   \n",
       "\n",
       "           493       494       495       496       497       498       499  \n",
       "0     1.000000  1.000000  1.000000  1.000000  1.000000  1.000000  1.000000  \n",
       "1     1.001711  1.006964  1.000458  1.010464  0.988317  0.996920  1.005568  \n",
       "2     1.006236  0.992298  1.006539  1.015428  0.977838  0.998448  1.009063  \n",
       "3     0.998627  0.987218  1.003919  1.015614  0.985789  1.001449  1.004057  \n",
       "4     1.006278  0.987634  1.011660  1.017319  0.967864  0.999133  1.010051  \n",
       "...        ...       ...       ...       ...       ...       ...       ...  \n",
       "7556  1.498624  3.413223  1.888345  2.088468  2.648125  3.200056  1.674335  \n",
       "7557  1.496197  3.404597  1.892702  2.083795  2.690466  3.236409  1.682493  \n",
       "7558  1.501252  3.407181  1.887490  2.084048  2.688430  3.278362  1.683125  \n",
       "7559  1.504803  3.418711  1.869786  2.054602  2.673892  3.262495  1.682795  \n",
       "7560  1.513871  3.443033  1.889224  2.034145  2.675769  3.284413  1.668836  \n",
       "\n",
       "[7561 rows x 500 columns]"
      ]
     },
     "execution_count": 62,
     "metadata": {},
     "output_type": "execute_result"
    }
   ],
   "source": [
    "# Run the Monte Carlo simulation to forecast 30 years cumulative returns\n",
    "MC_thirty_yr.calc_cumulative_return()\n"
   ]
  },
  {
   "cell_type": "code",
   "execution_count": 63,
   "metadata": {},
   "outputs": [
    {
     "data": {
      "image/png": "[encoded data removed]",
      "text/plain": [
       "<Figure size 432x288 with 1 Axes>"
      ]
     },
     "metadata": {
      "needs_background": "light"
     },
     "output_type": "display_data"
    }
   ],
   "source": [
    "# Visualize the 30-year Monte Carlo simulation by creating an\n",
    "# overlay line plot\n",
    "MC_thirty_yr_line_plot = MC_thirty_yr.plot_simulation()\n"
   ]
  },
  {
   "cell_type": "markdown",
   "metadata": {},
   "source": [
    "#### Step 3: Plot the probability distribution of the Monte Carlo simulation."
   ]
  },
  {
   "cell_type": "code",
   "execution_count": 64,
   "metadata": {},
   "outputs": [
    {
     "data": {
      "image/png": "[encoded data removed]",
      "text/plain": [
       "<Figure size 432x288 with 1 Axes>"
      ]
     },
     "metadata": {
      "needs_background": "light"
     },
     "output_type": "display_data"
    }
   ],
   "source": [
    "# Visualize the probability distribution of the 30-year Monte Carlo simulation \n",
    "# by plotting a histogram\n",
    "MC_thirty_yr_distribution_plot = MC_thirty_yr.plot_distribution()\n"
   ]
  },
  {
   "cell_type": "markdown",
   "metadata": {},
   "source": [
    "#### Step 4: Generate the summary statistics for the Monte Carlo simulation."
   ]
  },
  {
   "cell_type": "code",
   "execution_count": 75,
   "metadata": {},
   "outputs": [
    {
     "name": "stdout",
     "output_type": "stream",
     "text": [
      "count           500.000000\n",
      "mean              2.314669\n",
      "std               1.309262\n",
      "min               0.459921\n",
      "25%               1.405302\n",
      "50%               2.034656\n",
      "75%               2.975328\n",
      "max               9.627948\n",
      "95% CI Lower      0.680936\n",
      "95% CI Upper      5.362971\n",
      "Name: 7560, dtype: float64\n"
     ]
    }
   ],
   "source": [
    "# Generate summary statistics from the 30-year Monte Carlo simulation results\n",
    "# Save the results as a variable\n",
    "MC_thirty_yr_summary_stats = MC_thirty_yr.summarize_cumulative_return()\n",
    "\n",
    "\n",
    "# Review the 30-year Monte Carlo summary statistics\n",
    "print(MC_thirty_yr_summary_stats)"
   ]
  },
  {
   "cell_type": "markdown",
   "metadata": {},
   "source": [
    "### Analyze the Retirement Portfolio Forecasts\n",
    "\n",
    "Using the current value of only the stock and bond portion of the member's portfolio and the summary statistics that you generated from the Monte Carlo simulation, answer the following question in your Jupyter notebook:\n",
    "\n",
    "-  What are the lower and upper bounds for the expected value of the portfolio with a 95% confidence interval?\n"
   ]
  },
  {
   "cell_type": "code",
   "execution_count": 69,
   "metadata": {},
   "outputs": [
    {
     "name": "stdout",
     "output_type": "stream",
     "text": [
      "The current balance of the stocks and bond portion of the portfolio is $ 62398\n"
     ]
    }
   ],
   "source": [
    "# Print the current balance of the stock and bond portion of the members portfolio\n",
    "current_stocks_bonds = agg_value + spy_value\n",
    "print(f\"The current balance of the stocks and bond portion of the portfolio is $ {current_stocks_bonds}\")"
   ]
  },
  {
   "cell_type": "code",
   "execution_count": 78,
   "metadata": {},
   "outputs": [
    {
     "name": "stdout",
     "output_type": "stream",
     "text": [
      "There is a 95% chance that an initial investment of $62398.00 in the portfolio with a sixty/forty weight portfolio over a 30 year period will end within the range of $42489 and $334639\n"
     ]
    }
   ],
   "source": [
    "# Use the lower and upper `95%` confidence intervals to calculate the range of the possible outcomes for the current stock/bond portfolio\n",
    "ci_lower_thirty_cumulative_return = round(MC_thirty_yr_summary_stats[8]*current_stocks_bonds)\n",
    "ci_upper_thirty_cumulative_return = round(MC_thirty_yr_summary_stats[9]*current_stocks_bonds)\n",
    "\n",
    "# Print the result of your calculations\n",
    "print(f\"There is a 95% chance that an initial investment of ${current_stocks_bonds:.2f} in the portfolio\"\n",
    "      f\" with a sixty/forty weight portfolio over a 30 year period will end within the range of\"\n",
    "      f\" ${ci_lower_thirty_cumulative_return} and ${ci_upper_thirty_cumulative_return}\")\n"
   ]
  },
  {
   "cell_type": "markdown",
   "metadata": {},
   "source": [
    "### Forecast Cumulative Returns in 10 Years\n",
    "\n",
    "The CTO of the credit union is impressed with your work on these planning tools but wonders if 30 years is a long time to wait until retirement. So, your next task is to adjust the retirement portfolio and run a new Monte Carlo simulation to find out if the changes will allow members to retire earlier.\n",
    "\n",
    "For this new Monte Carlo simulation, do the following: \n",
    "\n",
    "- Forecast the cumulative returns for 10 years from now. Because of the shortened investment horizon (30 years to 10 years), the portfolio needs to invest more heavily in the riskier asset&mdash;that is, stock&mdash;to help accumulate wealth for retirement. \n",
    "\n",
    "- Adjust the weights of the retirement portfolio so that the composition for the Monte Carlo simulation consists of 20% bonds and 80% stocks. \n",
    "\n",
    "- Run the simulation over 500 samples, and use the same data that the API call to Alpaca generated.\n",
    "\n",
    "- Based on the new Monte Carlo simulation, answer the following questions in your Jupyter notebook:\n",
    "\n",
    "    - Using the current value of only the stock and bond portion of the member's portfolio and the summary statistics that you generated from the new Monte Carlo simulation, what are the lower and upper bounds for the expected value of the portfolio (with the new weights) with a 95% confidence interval?\n",
    "\n",
    "    - Will weighting the portfolio more heavily toward stocks allow the credit union members to retire after only 10 years?\n"
   ]
  },
  {
   "cell_type": "code",
   "execution_count": null,
   "metadata": {},
   "outputs": [],
   "source": [
    "# Configure a Monte Carlo simulation to forecast 10 years cumulative returns\n",
    "# The weights should be split 20% to AGG and 80% to SPY.\n",
    "# Run 500 samples.\n",
    "# YOUR CODE HERE\n",
    "\n",
    "# Review the simulation input data\n",
    "# YOUR CODE HERE\n"
   ]
  },
  {
   "cell_type": "code",
   "execution_count": null,
   "metadata": {},
   "outputs": [],
   "source": [
    "# Run the Monte Carlo simulation to forecast 10 years cumulative returns\n",
    "# YOUR CODE HERE\n"
   ]
  },
  {
   "cell_type": "code",
   "execution_count": null,
   "metadata": {},
   "outputs": [],
   "source": [
    "# Visualize the 10-year Monte Carlo simulation by creating an\n",
    "# overlay line plot\n",
    "# YOUR CODE HERE\n"
   ]
  },
  {
   "cell_type": "code",
   "execution_count": null,
   "metadata": {},
   "outputs": [],
   "source": [
    "# Visualize the probability distribution of the 10-year Monte Carlo simulation \n",
    "# by plotting a histogram\n",
    "# YOUR CODE HERE\n"
   ]
  },
  {
   "cell_type": "code",
   "execution_count": null,
   "metadata": {},
   "outputs": [],
   "source": [
    "# Generate summary statistics from the 10-year Monte Carlo simulation results\n",
    "# Save the results as a variable\n",
    "# YOUR CODE HERE\n",
    "\n",
    "\n",
    "# Review the 10-year Monte Carlo summary statistics\n",
    "# YOUR CODE HERE"
   ]
  },
  {
   "cell_type": "markdown",
   "metadata": {},
   "source": [
    "### Answer the following questions:"
   ]
  },
  {
   "cell_type": "markdown",
   "metadata": {},
   "source": [
    "#### Question: Using the current value of only the stock and bond portion of the member's portfolio and the summary statistics that you generated from the new Monte Carlo simulation, what are the lower and upper bounds for the expected value of the portfolio (with the new weights) with a 95% confidence interval?"
   ]
  },
  {
   "cell_type": "code",
   "execution_count": null,
   "metadata": {},
   "outputs": [],
   "source": [
    "# Print the current balance of the stock and bond portion of the members portfolio\n",
    "# YOUR CODE HERE\n"
   ]
  },
  {
   "cell_type": "code",
   "execution_count": null,
   "metadata": {},
   "outputs": [],
   "source": [
    "# Use the lower and upper `95%` confidence intervals to calculate the range of the possible outcomes for the current stock/bond portfolio\n",
    "ci_lower_ten_cumulative_return = # YOUR CODE HERE\n",
    "ci_upper_ten_cumulative_return = # YOUR CODE HERE\n",
    "\n",
    "# Print the result of your calculations\n",
    "# YOUR CODE HERE\n"
   ]
  },
  {
   "cell_type": "markdown",
   "metadata": {},
   "source": [
    "#### Question: Will weighting the portfolio more heavily to stocks allow the credit union members to retire after only 10 years?"
   ]
  },
  {
   "cell_type": "raw",
   "metadata": {},
   "source": [
    "**Answer** # YOUR ANSWER HERE"
   ]
  },
  {
   "cell_type": "code",
   "execution_count": null,
   "metadata": {},
   "outputs": [],
   "source": []
  }
 ],
 "metadata": {
  "kernelspec": {
   "display_name": "Python 3 (ipykernel)",
   "language": "python",
   "name": "python3"
  },
  "language_info": {
   "codemirror_mode": {
    "name": "ipython",
    "version": 3
   },
   "file_extension": ".py",
   "mimetype": "text/x-python",
   "name": "python",
   "nbconvert_exporter": "python",
   "pygments_lexer": "ipython3",
   "version": "3.7.13"
  }
 },
 "nbformat": 4,
 "nbformat_minor": 4
}
